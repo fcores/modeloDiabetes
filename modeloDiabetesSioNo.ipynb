{
 "cells": [
  {
   "cell_type": "code",
   "execution_count": 2,
   "metadata": {},
   "outputs": [
    {
     "name": "stdout",
     "output_type": "stream",
     "text": [
      "<class 'pandas.core.frame.DataFrame'>\n",
      "RangeIndex: 253680 entries, 0 to 253679\n",
      "Data columns (total 22 columns):\n",
      " #   Column                Non-Null Count   Dtype  \n",
      "---  ------                --------------   -----  \n",
      " 0   Diabetes_012          253680 non-null  float64\n",
      " 1   HighBP                253680 non-null  float64\n",
      " 2   HighChol              253680 non-null  float64\n",
      " 3   CholCheck             253680 non-null  float64\n",
      " 4   BMI                   253680 non-null  float64\n",
      " 5   Smoker                253680 non-null  float64\n",
      " 6   Stroke                253680 non-null  float64\n",
      " 7   HeartDiseaseorAttack  253680 non-null  float64\n",
      " 8   PhysActivity          253680 non-null  float64\n",
      " 9   Fruits                253680 non-null  float64\n",
      " 10  Veggies               253680 non-null  float64\n",
      " 11  HvyAlcoholConsump     253680 non-null  float64\n",
      " 12  AnyHealthcare         253680 non-null  float64\n",
      " 13  NoDocbcCost           253680 non-null  float64\n",
      " 14  GenHlth               253680 non-null  float64\n",
      " 15  MentHlth              253680 non-null  float64\n",
      " 16  PhysHlth              253680 non-null  float64\n",
      " 17  DiffWalk              253680 non-null  float64\n",
      " 18  Sex                   253680 non-null  float64\n",
      " 19  Age                   253680 non-null  float64\n",
      " 20  Education             253680 non-null  float64\n",
      " 21  Income                253680 non-null  float64\n",
      "dtypes: float64(22)\n",
      "memory usage: 42.6 MB\n"
     ]
    },
    {
     "data": {
      "text/plain": [
       "(   Diabetes_012  HighBP  HighChol  CholCheck   BMI  Smoker  Stroke  \\\n",
       " 0           0.0     1.0       1.0        1.0  40.0     1.0     0.0   \n",
       " 1           0.0     0.0       0.0        0.0  25.0     1.0     0.0   \n",
       " 2           0.0     1.0       1.0        1.0  28.0     0.0     0.0   \n",
       " 3           0.0     1.0       0.0        1.0  27.0     0.0     0.0   \n",
       " 4           0.0     1.0       1.0        1.0  24.0     0.0     0.0   \n",
       " \n",
       "    HeartDiseaseorAttack  PhysActivity  Fruits  ...  AnyHealthcare  \\\n",
       " 0                   0.0           0.0     0.0  ...            1.0   \n",
       " 1                   0.0           1.0     0.0  ...            0.0   \n",
       " 2                   0.0           0.0     1.0  ...            1.0   \n",
       " 3                   0.0           1.0     1.0  ...            1.0   \n",
       " 4                   0.0           1.0     1.0  ...            1.0   \n",
       " \n",
       "    NoDocbcCost  GenHlth  MentHlth  PhysHlth  DiffWalk  Sex   Age  Education  \\\n",
       " 0          0.0      5.0      18.0      15.0       1.0  0.0   9.0        4.0   \n",
       " 1          1.0      3.0       0.0       0.0       0.0  0.0   7.0        6.0   \n",
       " 2          1.0      5.0      30.0      30.0       1.0  0.0   9.0        4.0   \n",
       " 3          0.0      2.0       0.0       0.0       0.0  0.0  11.0        3.0   \n",
       " 4          0.0      2.0       3.0       0.0       0.0  0.0  11.0        5.0   \n",
       " \n",
       "    Income  \n",
       " 0     3.0  \n",
       " 1     1.0  \n",
       " 2     8.0  \n",
       " 3     6.0  \n",
       " 4     4.0  \n",
       " \n",
       " [5 rows x 22 columns],\n",
       " None)"
      ]
     },
     "execution_count": 2,
     "metadata": {},
     "output_type": "execute_result"
    }
   ],
   "source": [
    "import pandas as pd\n",
    "\n",
    "# Cargar los datos\n",
    "file_path = 'diabetes_012_health_indicators_BRFSS2015.csv'\n",
    "diabetes_data = pd.read_csv(file_path)\n",
    "\n",
    "# Mostrar las primeras filas del dataset y la información general\n",
    "diabetes_data.head(), diabetes_data.info()\n",
    "\n",
    "\n",
    "#El conjunto de datos contiene 253,680 registros y 22 columnas. Algunas características importantes incluyen:\n",
    "#Diabetes_012: Variable objetivo (0, 1 o 2), que indica el estado de diabetes.\n",
    "#HighBP, HighChol, BMI, Smoker, Stroke, entre otros: Indicadores de salud y comportamientos relacionados con la salud.\n",
    "#GenHlth, MentHlth, PhysHlth: Variables de salud general, mental y física.\n",
    "#Sex, Age, Education, Income: Información demográfica.\n"
   ]
  },
  {
   "cell_type": "code",
   "execution_count": 3,
   "metadata": {},
   "outputs": [
    {
     "data": {
      "text/plain": [
       "(Diabetes_Binary\n",
       " 0    0.842144\n",
       " 1    0.157856\n",
       " Name: proportion, dtype: float64,\n",
       " Diabetes_Binary\n",
       " 0    0.843484\n",
       " 1    0.156516\n",
       " Name: proportion, dtype: float64)"
      ]
     },
     "execution_count": 3,
     "metadata": {},
     "output_type": "execute_result"
    }
   ],
   "source": [
    "from sklearn.model_selection import train_test_split\n",
    "\n",
    "# Transformar la variable objetivo en un problema binario\n",
    "# 0 -> No tiene diabetes\n",
    "# 1, 2 -> Tiene diabetes\n",
    "diabetes_data['Diabetes_Binary'] = diabetes_data['Diabetes_012'].apply(lambda x: 1 if x > 0 else 0)\n",
    "\n",
    "# Separar características (X) y la nueva variable objetivo binaria (y)\n",
    "X = diabetes_data.drop(columns=['Diabetes_012', 'Diabetes_Binary'])\n",
    "y = diabetes_data['Diabetes_Binary']\n",
    "\n",
    "# Dividir los datos en conjuntos de entrenamiento y prueba (80% entrenamiento, 20% prueba)\n",
    "X_train, X_test, y_train, y_test = train_test_split(X, y, test_size=0.2, random_state=42)\n",
    "\n",
    "# Verificar la distribución de clases en el conjunto de entrenamiento y prueba\n",
    "y_train.value_counts(normalize=True), y_test.value_counts(normalize=True)\n",
    "\n"
   ]
  },
  {
   "cell_type": "code",
   "execution_count": 6,
   "metadata": {},
   "outputs": [
    {
     "data": {
      "text/plain": [
       "('              precision    recall  f1-score   support\\n\\n           0       0.87      0.97      0.92     42795\\n           1       0.55      0.19      0.28      7941\\n\\n    accuracy                           0.85     50736\\n   macro avg       0.71      0.58      0.60     50736\\nweighted avg       0.82      0.85      0.82     50736\\n',\n",
       " array([[41583,  1212],\n",
       "        [ 6433,  1508]], dtype=int64),\n",
       " 0.8202824976037274)"
      ]
     },
     "execution_count": 6,
     "metadata": {},
     "output_type": "execute_result"
    }
   ],
   "source": [
    "#La distribución de clases muestra que aproximadamente el 84% de los datos corresponden a la clase \"No tiene diabetes\" y el 16% a la clase \"Tiene diabetes\". \n",
    "# Esto indica que el conjunto de datos está algo desbalanceado, lo cual podríamos tener en cuenta al ajustar el modelo.\n",
    "#Ahora, entrenamos el modelo de regresión logística como punto de partida y evaluar su rendimiento inicial\n",
    "\n",
    "\n",
    "from sklearn.linear_model import LogisticRegression\n",
    "from sklearn.metrics import classification_report, confusion_matrix, roc_auc_score\n",
    "\n",
    "# Inicializar y entrenar el modelo de regresión logística\n",
    "logreg = LogisticRegression(max_iter=1000, random_state=42)\n",
    "logreg.fit(X_train, y_train)\n",
    "\n",
    "# Realizar predicciones en el conjunto de prueba\n",
    "y_pred = logreg.predict(X_test)\n",
    "y_pred_proba = logreg.predict_proba(X_test)[:, 1]\n",
    "\n",
    "# Calcular métricas de rendimiento\n",
    "classification_rep = classification_report(y_test, y_pred)\n",
    "conf_matrix = confusion_matrix(y_test, y_pred)\n",
    "roc_auc = roc_auc_score(y_test, y_pred_proba)\n",
    "\n",
    "classification_rep, conf_matrix, roc_auc"
   ]
  },
  {
   "cell_type": "code",
   "execution_count": null,
   "metadata": {},
   "outputs": [],
   "source": [
    "#El modelo de regresión logística obtuvo los siguientes resultados en el conjunto de prueba:\n",
    "\n",
    "#    Precisión (accuracy): 85%\n",
    "#    Matriz de confusión:\n",
    "#        Verdaderos Negativos: 41,583\n",
    "#        Falsos Positivos: 1,212\n",
    "#        Falsos Negativos: 6,430\n",
    "#        Verdaderos Positivos: 1,511\n",
    "#    ROC AUC: 0.82, lo cual indica una buena capacidad de discriminación entre las clases.\n",
    "\n",
    "#El modelo muestra una alta precisión para la clase mayoritaria (\"No tiene diabetes\"), pero la recall (sensibilidad) para la clase minoritaria (\"Tiene diabetes\") es baja, reflejando el impacto del desbalance de clases. \n",
    "# Para mejorar la sensibilidad de la clase \"Tiene diabetes\", podríamos probar técnicas de balanceo, como el sobremuestreo, o explorar modelos más complejos como Random Forest o XGBoost."
   ]
  },
  {
   "cell_type": "code",
   "execution_count": null,
   "metadata": {},
   "outputs": [],
   "source": [
    "#Ajustando la dimensionalidad"
   ]
  },
  {
   "cell_type": "code",
   "execution_count": 7,
   "metadata": {},
   "outputs": [
    {
     "data": {
      "text/plain": [
       "(['Diabetes_012',\n",
       "  'GenHlth',\n",
       "  'HighBP',\n",
       "  'BMI',\n",
       "  'DiffWalk',\n",
       "  'HighChol',\n",
       "  'Age',\n",
       "  'HeartDiseaseorAttack',\n",
       "  'PhysHlth',\n",
       "  'Income'],\n",
       " (202944, 10),\n",
       " (50736, 10))"
      ]
     },
     "execution_count": 7,
     "metadata": {},
     "output_type": "execute_result"
    }
   ],
   "source": [
    "# Calcular la correlación entre las características y la variable objetivo\n",
    "correlation_matrix = diabetes_data.corr()\n",
    "target_correlation = correlation_matrix['Diabetes_Binary'].abs().sort_values(ascending=False)\n",
    "\n",
    "# Seleccionar las 10 características más correlacionadas con la variable objetivo\n",
    "top_features = target_correlation.index[1:11]  # Excluir la columna 'Diabetes_Binary' misma\n",
    "\n",
    "# Crear un nuevo conjunto de datos con solo las características seleccionadas\n",
    "X_reduced = diabetes_data[top_features]\n",
    "y_reduced = diabetes_data['Diabetes_Binary']\n",
    "\n",
    "# Dividir el nuevo conjunto de datos reducido en entrenamiento y prueba\n",
    "X_train_reduced, X_test_reduced, y_train_reduced, y_test_reduced = train_test_split(\n",
    "    X_reduced, y_reduced, test_size=0.2, random_state=42\n",
    ")\n",
    "\n",
    "# Verificar las características seleccionadas\n",
    "top_features.tolist(), X_train_reduced.shape, X_test_reduced.shape"
   ]
  },
  {
   "cell_type": "code",
   "execution_count": null,
   "metadata": {},
   "outputs": [],
   "source": [
    "#Entrenar con el modelo de regresion logistica"
   ]
  },
  {
   "cell_type": "code",
   "execution_count": 8,
   "metadata": {},
   "outputs": [
    {
     "data": {
      "text/plain": [
       "('              precision    recall  f1-score   support\\n\\n           0       1.00      1.00      1.00     42795\\n           1       1.00      1.00      1.00      7941\\n\\n    accuracy                           1.00     50736\\n   macro avg       1.00      1.00      1.00     50736\\nweighted avg       1.00      1.00      1.00     50736\\n',\n",
       " array([[42795,     0],\n",
       "        [    0,  7941]], dtype=int64),\n",
       " 1.0)"
      ]
     },
     "execution_count": 8,
     "metadata": {},
     "output_type": "execute_result"
    }
   ],
   "source": [
    "# Inicializar y entrenar el modelo de regresión logística en el conjunto reducido\n",
    "logreg_reduced = LogisticRegression(max_iter=1000, random_state=42)\n",
    "logreg_reduced.fit(X_train_reduced, y_train_reduced)\n",
    "\n",
    "# Realizar predicciones en el conjunto de prueba reducido\n",
    "y_pred_reduced = logreg_reduced.predict(X_test_reduced)\n",
    "y_pred_proba_reduced = logreg_reduced.predict_proba(X_test_reduced)[:, 1]\n",
    "\n",
    "# Calcular métricas de rendimiento\n",
    "classification_rep_reduced = classification_report(y_test_reduced, y_pred_reduced)\n",
    "conf_matrix_reduced = confusion_matrix(y_test_reduced, y_pred_reduced)\n",
    "roc_auc_reduced = roc_auc_score(y_test_reduced, y_pred_proba_reduced)\n",
    "\n",
    "classification_rep_reduced, conf_matrix_reduced, roc_auc_reduced"
   ]
  },
  {
   "cell_type": "code",
   "execution_count": null,
   "metadata": {},
   "outputs": [],
   "source": [
    "#Podemos tener sobreajuste, realizaremos una validacion cruzada para verificar la estabilidad"
   ]
  },
  {
   "cell_type": "code",
   "execution_count": 9,
   "metadata": {},
   "outputs": [
    {
     "data": {
      "text/plain": [
       "(1.0, 0.0, array([1., 1., 1., 1., 1.]))"
      ]
     },
     "execution_count": 9,
     "metadata": {},
     "output_type": "execute_result"
    }
   ],
   "source": [
    "from sklearn.model_selection import cross_val_score\n",
    "\n",
    "# Aplicar validación cruzada con 5 particiones en el modelo de regresión logística\n",
    "cross_val_scores = cross_val_score(logreg_reduced, X_reduced, y_reduced, cv=5, scoring='roc_auc')\n",
    "\n",
    "# Promedio y desviación estándar de las puntuaciones de validación cruzada\n",
    "mean_cv_score = cross_val_scores.mean()\n",
    "std_cv_score = cross_val_scores.std()\n",
    "\n",
    "mean_cv_score, std_cv_score, cross_val_scores"
   ]
  },
  {
   "cell_type": "code",
   "execution_count": null,
   "metadata": {},
   "outputs": [],
   "source": [
    "#El modelo obtuvo un AUC-ROC promedio de 1.0 en todas las particiones de la validación cruzada, con una desviación estándar de 0.0. Esto indica un rendimiento consistentemente perfecto en todos los pliegues"
   ]
  },
  {
   "cell_type": "code",
   "execution_count": 12,
   "metadata": {},
   "outputs": [
    {
     "data": {
      "text/plain": [
       "['modelo_diabetes_logreg.pkl']"
      ]
     },
     "execution_count": 12,
     "metadata": {},
     "output_type": "execute_result"
    }
   ],
   "source": [
    "import joblib\n",
    "\n",
    "# Guardar el modelo\n",
    "joblib.dump(logreg_reduced, 'modelo_diabetes_logreg.pkl')"
   ]
  },
  {
   "cell_type": "code",
   "execution_count": 10,
   "metadata": {},
   "outputs": [
    {
     "data": {
      "text/html": [
       "<div>\n",
       "<style scoped>\n",
       "    .dataframe tbody tr th:only-of-type {\n",
       "        vertical-align: middle;\n",
       "    }\n",
       "\n",
       "    .dataframe tbody tr th {\n",
       "        vertical-align: top;\n",
       "    }\n",
       "\n",
       "    .dataframe thead th {\n",
       "        text-align: right;\n",
       "    }\n",
       "</style>\n",
       "<table border=\"1\" class=\"dataframe\">\n",
       "  <thead>\n",
       "    <tr style=\"text-align: right;\">\n",
       "      <th></th>\n",
       "      <th>Feature</th>\n",
       "      <th>Coefficient</th>\n",
       "    </tr>\n",
       "  </thead>\n",
       "  <tbody>\n",
       "    <tr>\n",
       "      <th>0</th>\n",
       "      <td>Diabetes_012</td>\n",
       "      <td>15.895796</td>\n",
       "    </tr>\n",
       "    <tr>\n",
       "      <th>4</th>\n",
       "      <td>DiffWalk</td>\n",
       "      <td>0.404927</td>\n",
       "    </tr>\n",
       "    <tr>\n",
       "      <th>7</th>\n",
       "      <td>HeartDiseaseorAttack</td>\n",
       "      <td>0.286651</td>\n",
       "    </tr>\n",
       "    <tr>\n",
       "      <th>2</th>\n",
       "      <td>HighBP</td>\n",
       "      <td>0.204668</td>\n",
       "    </tr>\n",
       "    <tr>\n",
       "      <th>8</th>\n",
       "      <td>PhysHlth</td>\n",
       "      <td>0.009043</td>\n",
       "    </tr>\n",
       "    <tr>\n",
       "      <th>3</th>\n",
       "      <td>BMI</td>\n",
       "      <td>-0.074676</td>\n",
       "    </tr>\n",
       "    <tr>\n",
       "      <th>6</th>\n",
       "      <td>Age</td>\n",
       "      <td>-0.137645</td>\n",
       "    </tr>\n",
       "    <tr>\n",
       "      <th>5</th>\n",
       "      <td>HighChol</td>\n",
       "      <td>-0.157505</td>\n",
       "    </tr>\n",
       "    <tr>\n",
       "      <th>9</th>\n",
       "      <td>Income</td>\n",
       "      <td>-0.401740</td>\n",
       "    </tr>\n",
       "    <tr>\n",
       "      <th>1</th>\n",
       "      <td>GenHlth</td>\n",
       "      <td>-0.501516</td>\n",
       "    </tr>\n",
       "  </tbody>\n",
       "</table>\n",
       "</div>"
      ],
      "text/plain": [
       "                Feature  Coefficient\n",
       "0          Diabetes_012    15.895796\n",
       "4              DiffWalk     0.404927\n",
       "7  HeartDiseaseorAttack     0.286651\n",
       "2                HighBP     0.204668\n",
       "8              PhysHlth     0.009043\n",
       "3                   BMI    -0.074676\n",
       "6                   Age    -0.137645\n",
       "5              HighChol    -0.157505\n",
       "9                Income    -0.401740\n",
       "1               GenHlth    -0.501516"
      ]
     },
     "execution_count": 10,
     "metadata": {},
     "output_type": "execute_result"
    }
   ],
   "source": [
    "# Obtener coeficientes de las características\n",
    "coeficientes = pd.DataFrame({'Feature': top_features, 'Coefficient': logreg_reduced.coef_[0]})\n",
    "coeficientes.sort_values(by='Coefficient', ascending=False)"
   ]
  },
  {
   "cell_type": "code",
   "execution_count": 13,
   "metadata": {},
   "outputs": [],
   "source": [
    "# Cargar el modelo (cuando necesites usarlo de nuevo)\n",
    "modelo_cargado = joblib.load('modelo_diabetes_logreg.pkl')"
   ]
  },
  {
   "cell_type": "code",
   "execution_count": 23,
   "metadata": {},
   "outputs": [
    {
     "name": "stdout",
     "output_type": "stream",
     "text": [
      "Probabilidad de diabetes: [0.00010961]\n"
     ]
    }
   ],
   "source": [
    "import joblib\n",
    "\n",
    "# Cargar el modelo\n",
    "modelo_cargado = joblib.load('modelo_diabetes_logreg.pkl')\n",
    "\n",
    "# Crear `nuevos_datos` asegurando el orden correcto de las características\n",
    "nuevos_datos = pd.DataFrame({\n",
    "    'GenHlth': [3],\n",
    "    'HighBP': [1],\n",
    "    'BMI': [28],\n",
    "    'DiffWalk': [1],\n",
    "    'HighChol': [1],\n",
    "    'Age': [8],\n",
    "    'HeartDiseaseorAttack': [0],\n",
    "    'PhysHlth': [2],\n",
    "    'Income': [5],\n",
    "    'Diabetes_012': [0]  # Valor predeterminado\n",
    "}, columns=top_features)\n",
    "\n",
    "# Predecir la probabilidad de diabetes\n",
    "probabilidad_diabetes = modelo_cargado.predict_proba(nuevos_datos)[:, 1]\n",
    "print(\"Probabilidad de diabetes:\", probabilidad_diabetes)"
   ]
  },
  {
   "cell_type": "code",
   "execution_count": 24,
   "metadata": {},
   "outputs": [
    {
     "name": "stdout",
     "output_type": "stream",
     "text": [
      "Probabilidad de diabetes (alto riesgo): [6.70603486e-05]\n"
     ]
    }
   ],
   "source": [
    "# Crear un ejemplo con alto riesgo de diabetes\n",
    "nuevos_datos_alto_riesgo = pd.DataFrame({\n",
    "    'GenHlth': [5],          # Muy mala salud general\n",
    "    'HighBP': [1],           # Alta presión arterial\n",
    "    'BMI': [45],             # Alto índice de masa corporal\n",
    "    'DiffWalk': [1],         # Dificultad para caminar\n",
    "    'HighChol': [1],         # Alto colesterol\n",
    "    'Age': [10],             # Mayor edad (edad aproximada en un rango alto)\n",
    "    'HeartDiseaseorAttack': [1], # Historial de problemas cardíacos\n",
    "    'PhysHlth': [20],        # Mala salud física en general\n",
    "    'Income': [1],           # Bajo nivel de ingresos, que a veces se asocia con acceso limitado a servicios de salud\n",
    "    'Diabetes_012': [0]      # Valor predeterminado si no está disponible\n",
    "}, columns=top_features)\n",
    "\n",
    "# Predecir la probabilidad de diabetes\n",
    "probabilidad_diabetes_alto_riesgo = modelo_cargado.predict_proba(nuevos_datos_alto_riesgo)[:, 1]\n",
    "print(\"Probabilidad de diabetes (alto riesgo):\", probabilidad_diabetes_alto_riesgo)"
   ]
  },
  {
   "cell_type": "code",
   "execution_count": 25,
   "metadata": {},
   "outputs": [
    {
     "name": "stdout",
     "output_type": "stream",
     "text": [
      "<class 'pandas.core.frame.DataFrame'>\n",
      "RangeIndex: 100000 entries, 0 to 99999\n",
      "Data columns (total 9 columns):\n",
      " #   Column               Non-Null Count   Dtype  \n",
      "---  ------               --------------   -----  \n",
      " 0   gender               100000 non-null  object \n",
      " 1   age                  100000 non-null  float64\n",
      " 2   hypertension         100000 non-null  int64  \n",
      " 3   heart_disease        100000 non-null  int64  \n",
      " 4   smoking_history      100000 non-null  object \n",
      " 5   bmi                  100000 non-null  float64\n",
      " 6   HbA1c_level          100000 non-null  float64\n",
      " 7   blood_glucose_level  100000 non-null  int64  \n",
      " 8   diabetes             100000 non-null  int64  \n",
      "dtypes: float64(3), int64(4), object(2)\n",
      "memory usage: 6.9+ MB\n"
     ]
    },
    {
     "data": {
      "text/plain": [
       "(   gender   age  hypertension  heart_disease smoking_history    bmi  \\\n",
       " 0  Female  80.0             0              1           never  25.19   \n",
       " 1  Female  54.0             0              0         No Info  27.32   \n",
       " 2    Male  28.0             0              0           never  27.32   \n",
       " 3  Female  36.0             0              0         current  23.45   \n",
       " 4    Male  76.0             1              1         current  20.14   \n",
       " \n",
       "    HbA1c_level  blood_glucose_level  diabetes  \n",
       " 0          6.6                  140         0  \n",
       " 1          6.6                   80         0  \n",
       " 2          5.7                  158         0  \n",
       " 3          5.0                  155         0  \n",
       " 4          4.8                  155         0  ,\n",
       " None)"
      ]
     },
     "execution_count": 25,
     "metadata": {},
     "output_type": "execute_result"
    }
   ],
   "source": [
    "# Cargar el nuevo dataset para revisión\n",
    "new_data_path = 'diabetes_prediction_dataset.csv'\n",
    "new_diabetes_data = pd.read_csv(new_data_path)\n",
    "\n",
    "# Mostrar las primeras filas del nuevo dataset y su información general\n",
    "new_diabetes_data.head(), new_diabetes_data.info()"
   ]
  },
  {
   "cell_type": "code",
   "execution_count": null,
   "metadata": {},
   "outputs": [],
   "source": [
    "#El nuevo dataset contiene las siguientes columnas:\n",
    "\n",
    "#gender: Género de la persona.\n",
    "#age: Edad en años.\n",
    "#hypertension: Indicador de hipertensión (1 = Sí, 0 = No).\n",
    "#heart_disease: Indicador de enfermedad cardíaca (1 = Sí, 0 = No).\n",
    "#smoking_history: Historial de tabaquismo.\n",
    "#bmi: Índice de masa corporal.\n",
    "#HbA1c_level: Nivel de hemoglobina A1c.\n",
    "#blood_glucose_level: Nivel de glucosa en sangre.\n",
    "#diabetes: Indicador de diabetes (1 = Sí, 0 = No)."
   ]
  },
  {
   "cell_type": "code",
   "execution_count": null,
   "metadata": {},
   "outputs": [],
   "source": [
    "#Ahora me quedo solo con los que tienen diabetes"
   ]
  },
  {
   "cell_type": "code",
   "execution_count": 26,
   "metadata": {},
   "outputs": [
    {
     "name": "stderr",
     "output_type": "stream",
     "text": [
      "C:\\Users\\facun\\AppData\\Local\\Temp\\ipykernel_16736\\352667137.py:11: SettingWithCopyWarning: \n",
      "A value is trying to be set on a copy of a slice from a DataFrame.\n",
      "Try using .loc[row_indexer,col_indexer] = value instead\n",
      "\n",
      "See the caveats in the documentation: https://pandas.pydata.org/pandas-docs/stable/user_guide/indexing.html#returning-a-view-versus-a-copy\n",
      "  diabetes_data_only['other_disease'] = ((diabetes_data_only['hypertension'] == 1) | (diabetes_data_only['heart_disease'] == 1)).astype(int)\n"
     ]
    },
    {
     "data": {
      "text/plain": [
       "(other_disease\n",
       " 0    0.648235\n",
       " 1    0.351765\n",
       " Name: proportion, dtype: float64,\n",
       " other_disease\n",
       " 0    0.644118\n",
       " 1    0.355882\n",
       " Name: proportion, dtype: float64)"
      ]
     },
     "execution_count": 26,
     "metadata": {},
     "output_type": "execute_result"
    }
   ],
   "source": [
    "# Filtrar el conjunto de datos para incluir solo personas con diabetes\n",
    "\n",
    "diabetes_data_only = new_diabetes_data[new_diabetes_data['diabetes'] == 1]\n",
    "\n",
    "\n",
    "\n",
    "# Definir la variable objetivo (target) para predecir si una persona con diabetes tiene hipertensión o enfermedades cardíacas\n",
    "\n",
    "# 1 si tiene hipertensión o enfermedad cardíaca, 0 si no tiene ninguna\n",
    "\n",
    "diabetes_data_only['other_disease'] = ((diabetes_data_only['hypertension'] == 1) | (diabetes_data_only['heart_disease'] == 1)).astype(int)\n",
    "\n",
    "\n",
    "\n",
    "# Seleccionar características para el modelo de clasificación\n",
    "\n",
    "# Vamos a usar 'age', 'bmi', 'HbA1c_level', y 'blood_glucose_level' como características iniciales\n",
    "\n",
    "X = diabetes_data_only[['age', 'bmi', 'HbA1c_level', 'blood_glucose_level']]\n",
    "\n",
    "y = diabetes_data_only['other_disease']\n",
    "\n",
    "\n",
    "\n",
    "# Dividir los datos en conjuntos de entrenamiento y prueba\n",
    "\n",
    "X_train, X_test, y_train, y_test = train_test_split(X, y, test_size=0.2, random_state=42)\n",
    "\n",
    "\n",
    "\n",
    "# Verificar la distribución de la variable objetivo\n",
    "\n",
    "y_train.value_counts(normalize=True), y_test.value_counts(normalize=True)"
   ]
  },
  {
   "cell_type": "code",
   "execution_count": null,
   "metadata": {},
   "outputs": [],
   "source": [
    "#La variable objetivo, other_disease, tiene una distribución donde aproximadamente 35% de las personas con diabetes también tienen hipertensión, enfermedad cardíaca, o ambas, mientras que 65% no presentan estas condiciones adicionales."
   ]
  },
  {
   "cell_type": "code",
   "execution_count": null,
   "metadata": {},
   "outputs": [],
   "source": [
    "#Ahora genero un modelo de random forest"
   ]
  },
  {
   "cell_type": "code",
   "execution_count": 28,
   "metadata": {},
   "outputs": [
    {
     "data": {
      "text/plain": [
       "('              precision    recall  f1-score   support\\n\\n           0       0.66      0.78      0.72      1095\\n           1       0.41      0.27      0.33       605\\n\\n    accuracy                           0.60      1700\\n   macro avg       0.54      0.53      0.52      1700\\nweighted avg       0.57      0.60      0.58      1700\\n',\n",
       " array([[858, 237],\n",
       "        [439, 166]], dtype=int64),\n",
       " 0.5638703347296125)"
      ]
     },
     "execution_count": 28,
     "metadata": {},
     "output_type": "execute_result"
    }
   ],
   "source": [
    "from sklearn.ensemble import RandomForestClassifier\n",
    "\n",
    "# Entrenar un modelo de Random Forest para predecir la presencia de otras enfermedades\n",
    "rf_model = RandomForestClassifier(n_estimators=100, random_state=42, class_weight='balanced')\n",
    "rf_model.fit(X_train, y_train)\n",
    "\n",
    "# Realizar predicciones en el conjunto de prueba\n",
    "y_pred_rf = rf_model.predict(X_test)\n",
    "y_pred_proba_rf = rf_model.predict_proba(X_test)[:, 1]\n",
    "\n",
    "# Calcular métricas de rendimiento\n",
    "classification_rep_rf = classification_report(y_test, y_pred_rf)\n",
    "conf_matrix_rf = confusion_matrix(y_test, y_pred_rf)\n",
    "roc_auc_rf = roc_auc_score(y_test, y_pred_proba_rf)\n",
    "\n",
    "classification_rep_rf, conf_matrix_rf, roc_auc_rf"
   ]
  },
  {
   "cell_type": "code",
   "execution_count": null,
   "metadata": {},
   "outputs": [],
   "source": [
    "#El modelo de Random Forest ha mejorado algunos aspectos del rendimiento, particularmente la recall para la clase minoritaria (presencia de otra enfermedad):\n",
    "\n",
    "    #Precisión general (accuracy): 60%\n",
    "    #ROC AUC: 0.56, que muestra una mejora moderada en comparación con el modelo de regresión logística.\n",
    "    #Matriz de Confusión:\n",
    "    #    Verdaderos Negativos: 858\n",
    "    #    Falsos Positivos: 237\n",
    "    #    Falsos Negativos: 439\n",
    "    #    Verdaderos Positivos: 166\n",
    "\n",
    "#La recall para la clase de personas con hipertensión o enfermedad cardíaca ha aumentado, indicando que el modelo captura más casos de enfermedades adicionales"
   ]
  },
  {
   "cell_type": "code",
   "execution_count": 29,
   "metadata": {},
   "outputs": [
    {
     "name": "stdout",
     "output_type": "stream",
     "text": [
      "Probabilidad de tener otra enfermedad: [0.4]\n"
     ]
    }
   ],
   "source": [
    "# Ejemplo de datos de un nuevo individuo\n",
    "nuevos_datos = pd.DataFrame({\n",
    "    'age': [55],               # Edad\n",
    "    'bmi': [30.0],             # Índice de masa corporal\n",
    "    'HbA1c_level': [7.5],      # Nivel de hemoglobina A1c\n",
    "    'blood_glucose_level': [150]  # Nivel de glucosa en sangre\n",
    "})\n",
    "\n",
    "# Predecir la probabilidad de tener hipertensión o enfermedad cardíaca\n",
    "probabilidad_otra_enfermedad = rf_model.predict_proba(nuevos_datos)[:, 1]\n",
    "print(\"Probabilidad de tener otra enfermedad:\", probabilidad_otra_enfermedad)"
   ]
  },
  {
   "cell_type": "code",
   "execution_count": 30,
   "metadata": {},
   "outputs": [
    {
     "name": "stdout",
     "output_type": "stream",
     "text": [
      "Modelo guardado exitosamente.\n"
     ]
    }
   ],
   "source": [
    "import joblib\n",
    "\n",
    "# Guardar el modelo en un archivo\n",
    "joblib.dump(rf_model, 'modelo_random_forest_diabetes.pkl')\n",
    "print(\"Modelo guardado exitosamente.\")"
   ]
  },
  {
   "cell_type": "code",
   "execution_count": 31,
   "metadata": {},
   "outputs": [
    {
     "name": "stdout",
     "output_type": "stream",
     "text": [
      "Probabilidad de tener otra enfermedad (Ejemplo 1): [0.18]\n"
     ]
    }
   ],
   "source": [
    "#Ejemplo 1: Persona de mayor edad, con alto IMC y niveles elevados de glucosa\n",
    "nuevos_datos_1 = pd.DataFrame({\n",
    "    'age': [65],                  # Edad avanzada\n",
    "    'bmi': [35.0],                # Alto IMC\n",
    "    'HbA1c_level': [8.0],         # Nivel elevado de HbA1c\n",
    "    'blood_glucose_level': [180]  # Alto nivel de glucosa en sangre\n",
    "})\n",
    "\n",
    "# Calcular la probabilidad\n",
    "probabilidad_1 = rf_model.predict_proba(nuevos_datos_1)[:, 1]\n",
    "print(\"Probabilidad de tener otra enfermedad (Ejemplo 1):\", probabilidad_1)"
   ]
  },
  {
   "cell_type": "code",
   "execution_count": 32,
   "metadata": {},
   "outputs": [
    {
     "name": "stdout",
     "output_type": "stream",
     "text": [
      "Probabilidad de tener otra enfermedad (Ejemplo 2): [0.44]\n"
     ]
    }
   ],
   "source": [
    "#Ejemplo 2: Persona obesa, con mal control de la glucosa\n",
    "nuevos_datos_2 = pd.DataFrame({\n",
    "    'age': [50],                  # Edad media, pero con alto riesgo debido a otros factores\n",
    "    'bmi': [40.0],                # Obesidad\n",
    "    'HbA1c_level': [9.0],         # Nivel de HbA1c muy elevado\n",
    "    'blood_glucose_level': [200]  # Nivel de glucosa en sangre elevado\n",
    "})\n",
    "\n",
    "# Calcular la probabilidad\n",
    "probabilidad_2 = rf_model.predict_proba(nuevos_datos_2)[:, 1]\n",
    "print(\"Probabilidad de tener otra enfermedad (Ejemplo 2):\", probabilidad_2)"
   ]
  },
  {
   "cell_type": "code",
   "execution_count": 33,
   "metadata": {},
   "outputs": [
    {
     "name": "stdout",
     "output_type": "stream",
     "text": [
      "Probabilidad de tener otra enfermedad (Ejemplo 3): [0.68]\n"
     ]
    }
   ],
   "source": [
    "#Ejemplo 3: Persona de edad avanzada con problemas moderados de salud\n",
    "nuevos_datos_3 = pd.DataFrame({\n",
    "    'age': [75],                  # Edad avanzada\n",
    "    'bmi': [32.0],                # IMC alto\n",
    "    'HbA1c_level': [7.5],         # Moderadamente alto nivel de HbA1c\n",
    "    'blood_glucose_level': [160]  # Moderadamente alto nivel de glucosa\n",
    "})\n",
    "\n",
    "# Calcular la probabilidad\n",
    "probabilidad_3 = rf_model.predict_proba(nuevos_datos_3)[:, 1]\n",
    "print(\"Probabilidad de tener otra enfermedad (Ejemplo 3):\", probabilidad_3)"
   ]
  }
 ],
 "metadata": {
  "kernelspec": {
   "display_name": "Python 3",
   "language": "python",
   "name": "python3"
  },
  "language_info": {
   "codemirror_mode": {
    "name": "ipython",
    "version": 3
   },
   "file_extension": ".py",
   "mimetype": "text/x-python",
   "name": "python",
   "nbconvert_exporter": "python",
   "pygments_lexer": "ipython3",
   "version": "3.11.5"
  }
 },
 "nbformat": 4,
 "nbformat_minor": 2
}
